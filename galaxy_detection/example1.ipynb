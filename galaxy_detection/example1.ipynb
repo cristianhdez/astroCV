{
 "cells": [
  {
   "cell_type": "code",
   "execution_count": null,
   "metadata": {},
   "outputs": [],
   "source": [
    "#Basic AstroCV example\n",
    "#Detect galaxies on a sample image\n",
    "#\n",
    "#We provide a pre-compiled version of darknet to run remotely from \n",
    "#jupiterhub server, however for local use, you should download and\n",
    "#compile:\n",
    "#https://github.com/astroCV/darknet\n",
    "#https://github.com/astroCV/pyyolo"
   ]
  },
  {
   "cell_type": "code",
   "execution_count": null,
   "metadata": {},
   "outputs": [],
   "source": [
    "import pyyolo\n",
    "import numpy as np\n",
    "import sys\n",
    "from PIL import Image, ImageEnhance\n",
    "import matplotlib.patches as patches\n",
    "import matplotlib.pyplot as plt \n",
    "import time"
   ]
  },
  {
   "cell_type": "code",
   "execution_count": null,
   "metadata": {},
   "outputs": [],
   "source": [
    "darknet_path = './data/darknet' #darknet path\n",
    "datacfg = '../sdss.data' #relative to darknet path\n",
    "cfgfile = '../sdss.cfg' #relative to darknet path\n",
    "weightfile = '/mnt/data/astrocv/galaxy_sdss_hic.weights' #path to the weights file # lupton rgb +2 brightness +2 contrast with ImageEnhance\n",
    "filename = 'data/hic/1140_301_1_206.jpg' #image sample 1 hi contrast\n",
    "#filename = 'data/hic/1045_301_2_129.jpg' #image sample 2 hi contrast\n",
    "thresh = 0.2  #detection probability threshold\n",
    "hier_thresh = 0.5 "
   ]
  },
  {
   "cell_type": "code",
   "execution_count": null,
   "metadata": {},
   "outputs": [],
   "source": [
    "t1=time.time()\n",
    "pyyolo.init(darknet_path, datacfg, cfgfile, weightfile) #init and load network\n",
    "print('Initialization time = %5.3f seconds'%(time.time()-t1))\n",
    "t1=time.time() #actually loading the image take most of the time\n",
    "outputs = pyyolo.test(filename, thresh, hier_thresh, 0) #load image and process\n",
    "print('Load from file + Image processing time = %5.3f seconds'%(time.time()-t1))\n",
    "for output in outputs:\n",
    "        print(output)    \n",
    "pyyolo.cleanup()\n",
    "\n",
    "#plot image and detections\n",
    "img = Image.open(filename)\n",
    "contrast = ImageEnhance.Contrast(img)\n",
    "img2 = contrast.enhance(1.5) # just for visualzation \n",
    "fig,ax = plt.subplots(figsize=(12,9))\n",
    "plt.axis('off')\n",
    "plt.tight_layout(pad=0)\n",
    "plt.imshow(img2)\n",
    "ax.set_aspect('equal')\n",
    "for output in outputs:\n",
    "        r=output['right']\n",
    "        l=output['left']\n",
    "        t=output['top']\n",
    "        b=output['bottom']\n",
    "        rect = patches.Rectangle((l-4,t-3),r-l+8,b-t+4,linewidth=1,edgecolor='b',facecolor='none')      \n",
    "        ax.add_patch(rect)\n",
    "        ax.annotate(output['class'],(l-7,t-18),color='w',fontsize=14)\n",
    "plt.subplots_adjust(left=0, bottom=0, right=1, top=1, wspace=0, hspace=0) \n",
    "#plt.savefig('writable/sample.jpg',dpi=180) \n",
    "plt.show()"
   ]
  },
  {
   "cell_type": "code",
   "execution_count": null,
   "metadata": {},
   "outputs": [],
   "source": [
    "%%javascript\n",
    "IPython.notebook.kernel.restart();"
   ]
  },
  {
   "cell_type": "code",
   "execution_count": null,
   "metadata": {},
   "outputs": [],
   "source": []
  }
 ],
 "metadata": {
  "kernelspec": {
   "display_name": "Python 3",
   "language": "python",
   "name": "python3"
  },
  "language_info": {
   "codemirror_mode": {
    "name": "ipython",
    "version": 2
   },
   "file_extension": ".py",
   "mimetype": "text/x-python",
   "name": "python",
   "nbconvert_exporter": "python",
   "pygments_lexer": "ipython2",
   "version": "2.7.12"
  }
 },
 "nbformat": 4,
 "nbformat_minor": 2
}
